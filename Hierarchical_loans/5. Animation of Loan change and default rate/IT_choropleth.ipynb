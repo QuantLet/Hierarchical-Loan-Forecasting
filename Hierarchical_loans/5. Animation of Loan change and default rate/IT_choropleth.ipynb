{
 "cells": [
  {
   "cell_type": "code",
   "execution_count": 1,
   "metadata": {},
   "outputs": [],
   "source": [
    "import pandas as pd \n",
    "import seaborn as sns\n",
    "import matplotlib.pyplot as plt\n",
    "import geoplot\n",
    "import matplotlib.colors as c\n",
    "import geopandas as gpd\n",
    "import os"
   ]
  },
  {
   "cell_type": "markdown",
   "metadata": {},
   "source": [
    "# Make Animation for italy delinquency rate and loan amount change"
   ]
  },
  {
   "cell_type": "code",
   "execution_count": null,
   "metadata": {},
   "outputs": [],
   "source": [
    "sns.set_theme(context='notebook', style='whitegrid', palette = 'deep')\n",
    "dataset = pd.read_parquet('./loans_geography.parquet') \n",
    "dataset_bad_loans = pd.read_parquet('./bad_loans_rate.parquet')\n",
    "data = gpd.read_file('./limits_IT_regions.geojson')\n",
    "data['hue'] = 0\n",
    "mapping = ['ITC1', 'ITC2', 'ITC4', 'ITHBI12', 'ITH3', 'ITH4', 'ITC3', 'ITH5', 'ITI1', 'ITI2', 'ITI3', 'ITI4', 'ITF1','ITF2', 'ITF3', 'ITF4', 'ITF5', 'ITF6', 'ITG1', 'ITG2']\n",
    "dataset = 100*dataset.pct_change(6).dropna() \n",
    "dataset = dataset[mapping]\n",
    "dataset_bad_loans = dataset_bad_loans[mapping]\n",
    "dataset = dataset[::6]\n",
    "dataset_bad_loans = 100*dataset_bad_loans.rolling(6, step=6).mean().dropna()\n",
    "# dataset_bad_loans = dataset_bad_loans[6::6]\n",
    "try : \n",
    "    os.mkdir('./images')\n",
    "except : \n",
    "    pass"
   ]
  },
  {
   "cell_type": "markdown",
   "metadata": {},
   "source": [
    "## Build animation images"
   ]
  },
  {
   "cell_type": "code",
   "execution_count": 8,
   "metadata": {},
   "outputs": [],
   "source": [
    "for frame in range(len(dataset.index)):\n",
    "    fig,axs = plt.subplots(1,2, figsize = (20,6))\n",
    "    data['hue'] = dataset.iloc[frame,:].values\n",
    "    data_plot =  data.explode(index_parts=False).reset_index(drop = True)\n",
    "    axs[0].set_title(f'Delinquency rate {dataset.index[frame].strftime(\"%B %Y\")}', y = -.1)\n",
    "    axs[1].set_title(f'Loan amount pct change {dataset.index[frame].strftime(\"%B %Y\")}', y = -.1)\n",
    "\n",
    "    geoplot.choropleth(\n",
    "                data_plot,\n",
    "                hue = data_plot['hue'],\n",
    "                norm = c.Normalize(-6,6),\n",
    "                edgecolor='black',\n",
    "                cmap = 'seismic',\n",
    "                linewidth=.3,\n",
    "                legend = True,\n",
    "                ax = axs[1]\n",
    "            )\n",
    "\n",
    "    data['hue'] = dataset_bad_loans.iloc[frame,:].values\n",
    "    data_plot =  data.explode(index_parts=False).reset_index(drop = True)\n",
    "    geoplot.choropleth(\n",
    "                data_plot,\n",
    "                hue = data_plot['hue'],\n",
    "                norm = c.Normalize(0,20),\n",
    "                edgecolor='black',\n",
    "                cmap = 'seismic',\n",
    "                linewidth=.3,\n",
    "                legend = True,\n",
    "                ax = axs[0]\n",
    "            )\n",
    "    fig.savefig(f'./images/{frame}', dpi = 200, transparent = True)\n",
    "    plt.close()\n",
    "    # axs[1].set_title(dataset_bad_loans.index[frame].strftime(\"%B %Y\"), y = -.1)"
   ]
  },
  {
   "cell_type": "markdown",
   "metadata": {},
   "source": [
    "## Combine in gif format"
   ]
  },
  {
   "cell_type": "code",
   "execution_count": 9,
   "metadata": {},
   "outputs": [],
   "source": [
    "images = []\n",
    "for n in range(len(dataset.index)):\n",
    "    exec('a'+str(n)+'=Image.open(\"./images/'+str(n)+'.png\")')\n",
    "    images.append(eval('a'+str(n)))\n",
    "images[0].save('anim_full.gif',\n",
    "               save_all=True,\n",
    "               append_images=images[1:],\n",
    "               disposal = 2,\n",
    "               dpi = 200,\n",
    "               duration = 600,\n",
    "               loop=0)\n",
    "\n"
   ]
  }
 ],
 "metadata": {
  "kernelspec": {
   "display_name": "GPU",
   "language": "python",
   "name": "gpu-kernel"
  },
  "language_info": {
   "codemirror_mode": {
    "name": "ipython",
    "version": 3
   },
   "file_extension": ".py",
   "mimetype": "text/x-python",
   "name": "python",
   "nbconvert_exporter": "python",
   "pygments_lexer": "ipython3",
   "version": "3.11.11"
  }
 },
 "nbformat": 4,
 "nbformat_minor": 2
}
